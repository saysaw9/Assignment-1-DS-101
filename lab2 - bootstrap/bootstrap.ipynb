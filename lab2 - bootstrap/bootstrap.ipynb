{
  "nbformat": 4,
  "nbformat_minor": 0,
  "metadata": {
    "colab": {
      "name": "bootstrap.ipynb",
      "provenance": [],
      "include_colab_link": true
    },
    "kernelspec": {
      "display_name": "Python 3",
      "language": "python",
      "name": "python3"
    },
    "language_info": {
      "codemirror_mode": {
        "name": "ipython",
        "version": 3
      },
      "file_extension": ".py",
      "mimetype": "text/x-python",
      "name": "python",
      "nbconvert_exporter": "python",
      "pygments_lexer": "ipython3",
      "version": "3.7.6"
    },
    "pycharm": {
      "stem_cell": {
        "cell_type": "raw",
        "metadata": {
          "collapsed": false
        },
        "source": []
      }
    }
  },
  "cells": [
    {
      "cell_type": "markdown",
      "metadata": {
        "id": "view-in-github",
        "colab_type": "text"
      },
      "source": [
        "<a href=\"https://colab.research.google.com/github/saysaw9/Assignment-1-DS-101/blob/main/lab2%20-%20bootstrap/bootstrap.ipynb\" target=\"_parent\"><img src=\"https://colab.research.google.com/assets/colab-badge.svg\" alt=\"Open In Colab\"/></a>"
      ]
    },
    {
      "cell_type": "markdown",
      "metadata": {
        "id": "nCi_99yMYIb1"
      },
      "source": [
        "In this notebook you'll create your own bootstrap function following the bootstrap algorithm (check the lecture notes!)"
      ]
    },
    {
      "cell_type": "code",
      "metadata": {
        "id": "LY5zujI2YC37",
        "pycharm": {
          "name": "#%%# Imports\n"
        }
      },
      "source": [
        "import matplotlib\n",
        "import pandas as pd\n",
        "import seaborn as sns\n",
        "import numpy as np\n",
        "\n"
      ],
      "execution_count": 1,
      "outputs": []
    },
    {
      "cell_type": "code",
      "metadata": {
        "id": "Eqkwj4SMY38t"
      },
      "source": [
        "# Load the data\n",
        "df = pd.read_csv('https://raw.githubusercontent.com/albanda/CE888/master/lab2%20-%20bootstrap/customers.csv')\n",
        "data = df.values.T[1]"
      ],
      "execution_count": 3,
      "outputs": []
    },
    {
      "cell_type": "code",
      "source": [
        "print(df.shape)\n",
        "print(data)"
      ],
      "metadata": {
        "id": "200Bnq3EXPCK",
        "outputId": "e1e17797-d862-4c61-ad88-8f7b48f62c4a",
        "colab": {
          "base_uri": "https://localhost:8080/"
        }
      },
      "execution_count": 7,
      "outputs": [
        {
          "output_type": "stream",
          "name": "stdout",
          "text": [
            "(14, 2)\n",
            "[ 2.  8. 20. 13.  5.  9. 10.  8. 22. 10.  2.  4.  7.  9.]\n"
          ]
        }
      ]
    },
    {
      "cell_type": "code",
      "source": [
        "sample_size = 10\n",
        "n_bootstraps = 5\n",
        "\n",
        "d_array = np.random.choice(data,size=(n_bootstraps,sample_size))\n",
        "print(\"arrays -----\")\n",
        "print(d_array)\n",
        "\n",
        "# d_mean_arr = d_array.nanmean(axis = 1)\n",
        "d_mean_arr = np.nanmean(d_array, axis=1)\n",
        "print(\"individual means - \")\n",
        "print(d_mean_arr)\n",
        "\n",
        "d_mean_arr = d_array.mean(axis=1)\n",
        "print(\"individual means - \")\n",
        "print(d_mean_arr)\n",
        "\n",
        "d_mean_arr_sort = np.sort(d_mean_arr)\n",
        "print(\"sorted array of means - \", d_mean_arr_sort)\n",
        "\n",
        "print(\"data mean - \", np.mean(d_mean_arr_sort))\n",
        "\n",
        "print(np.percentile(d_mean_arr_sort, 2.5),np.percentile(d_mean_arr_sort, 97.5))\n",
        "print(np.percentile(d_mean_arr_sort, 10),np.percentile(d_mean_arr_sort, 90.0))"
      ],
      "metadata": {
        "id": "X9SQ214hXbJC",
        "outputId": "e9fd2fa5-c518-4bcc-81c5-219128c2bccc",
        "colab": {
          "base_uri": "https://localhost:8080/"
        }
      },
      "execution_count": 8,
      "outputs": [
        {
          "output_type": "stream",
          "name": "stdout",
          "text": [
            "arrays -----\n",
            "[[ 8.  8.  5.  8. 10.  8.  8.  5.  9. 13.]\n",
            " [ 2.  2.  7. 22.  8.  8. 22.  2. 13.  9.]\n",
            " [10.  9.  9.  7.  2.  2.  9.  5.  8.  5.]\n",
            " [ 8. 13. 20.  2.  5.  9.  9. 10. 10. 20.]\n",
            " [ 8.  8.  4.  9.  4.  5.  9.  7.  9.  7.]]\n",
            "individual means - \n",
            "[ 8.2  9.5  6.6 10.6  7. ]\n",
            "individual means - \n",
            "[ 8.2  9.5  6.6 10.6  7. ]\n",
            "sorted array of means -  [ 6.6  7.   8.2  9.5 10.6]\n",
            "data mean -  8.379999999999999\n",
            "6.64 10.49\n",
            "6.76 10.16\n"
          ]
        }
      ]
    },
    {
      "cell_type": "code",
      "metadata": {
        "id": "Gxvc_bScYC4H",
        "pycharm": {
          "name": "#%%\n"
        }
      },
      "source": [
        "# Checking the notes from the lecture, create here your own bootstrap function:\n",
        "# 1. Sample from the input array x to create an array of samples of shape (n_bootstraps, sample_size)\n",
        "# Hint: Check the function random.choice() on Numpy\n",
        "# 2. Calculate and save the mean of the array (this is \"data_mean\" that is returned by the function)\n",
        "# 3. Calculate the mean from each bootstrap (i.e., row) and store it.\n",
        "# (This should be an array of n_bootstraps values)\n",
        "# 4. Calculate the lower and upper bounds for a 95% CI (hint: check the percentile function on Numpy)\n",
        "# 5. Return data_mean, and the lower and upper bounds of your interval\n",
        "def bootstrap_mean(x, sample_size, n_bootstraps):\n",
        "\t# <---INSERT YOUR CODE HERE--->\n",
        "\td_array = np.random.choice(x,size=(n_bootstraps,sample_size))\n",
        "\td_mean_arr = d_array.mean(axis = 1)\n",
        "\td_mean_arr_sort = np.sort(d_mean_arr)\n",
        "\tdata_mean = np.mean(d_mean_arr_sort)\n",
        "\tlower = np.percentile(d_mean_arr_sort, 2.5)\n",
        "\tupper = np.percentile(d_mean_arr_sort, 97.5)\n",
        "\treturn data_mean, lower, upper\n"
      ],
      "execution_count": 9,
      "outputs": []
    },
    {
      "cell_type": "code",
      "metadata": {
        "id": "AN7sEOcMYC4P",
        "pycharm": {
          "name": "#%%\n"
        },
        "outputId": "cbc6f93c-cb35-4094-abc6-c2a4b6004892",
        "colab": {
          "base_uri": "https://localhost:8080/",
          "height": 441
        }
      },
      "source": [
        "# Call your bootstrap function and plot the results\n",
        "\n",
        "boots = []\n",
        "for i in range(100, 50000, 1000):\n",
        "    boot = bootstrap_mean(data, data.shape[0], i)\n",
        "    boots.append([i, boot[0], \"mean\"])\n",
        "    boots.append([i, boot[1], \"lower\"])\n",
        "    boots.append([i, boot[2], \"upper\"])\n",
        "\n",
        "df_boot = pd.DataFrame(boots, columns=['Bootstrap Iterations', 'Mean', \"Value\"])\n",
        "sns_plot = sns.lmplot(df_boot.columns[0], df_boot.columns[1], data=df_boot, fit_reg=False, hue=\"Value\")\n",
        "\n",
        "sns_plot.axes[0, 0].set_ylim(0,)\n",
        "sns_plot.axes[0, 0].set_xlim(0, 50000)\n"
      ],
      "execution_count": 10,
      "outputs": [
        {
          "output_type": "stream",
          "name": "stderr",
          "text": [
            "/usr/local/lib/python3.7/dist-packages/seaborn/_decorators.py:43: FutureWarning: Pass the following variables as keyword args: x, y. From version 0.12, the only valid positional argument will be `data`, and passing other arguments without an explicit keyword will result in an error or misinterpretation.\n",
            "  FutureWarning\n"
          ]
        },
        {
          "output_type": "execute_result",
          "data": {
            "text/plain": [
              "(0.0, 50000.0)"
            ]
          },
          "metadata": {},
          "execution_count": 10
        },
        {
          "output_type": "display_data",
          "data": {
            "text/plain": [
              "<Figure size 425.125x360 with 1 Axes>"
            ],
            "image/png": "[encoded data removed]"
          },
          "metadata": {
            "needs_background": "light"
          }
        }
      ]
    },
    {
      "cell_type": "markdown",
      "metadata": {
        "id": "MjtP4e2_YC4V"
      },
      "source": [
        "\n",
        "Now, modify the bootstrap function you created above so that you can pass your desired confidence interval as a parameter.\n",
        "\n"
      ]
    },
    {
      "cell_type": "code",
      "metadata": {
        "id": "3K9j0FuGYhHs"
      },
      "source": [
        "#     d_mean_arr = d_array.mean(axis = 1, skipna = True)\n",
        "def bootstrap_mean_ci(sample, sample_size, n_bootstraps, ci):\n",
        "\t# <---INSERT YOUR CODE HERE--->\n",
        "    d_array = np.random.choice(sample,size=(n_bootstraps,sample_size))\n",
        "    d_mean_arr = np.nanmean(d_array, axis=1)\n",
        "    d_mean_arr_sort = np.sort(d_mean_arr)\n",
        "    data_mean = np.mean(d_mean_arr_sort)\n",
        "    lower_ci = (100-ci)/2\n",
        "    upper_ci = 100-lower_ci\n",
        "    lower = np.percentile(d_mean_arr_sort, lower_ci)\n",
        "    upper = np.percentile(d_mean_arr_sort, upper_ci)\n",
        "    return data_mean, lower, upper"
      ],
      "execution_count": 11,
      "outputs": []
    },
    {
      "cell_type": "code",
      "source": [
        "def bootstrap_sd_ci(sample, sample_size, n_bootstraps, ci):\n",
        "\t# <---INSERT YOUR CODE HERE--->\n",
        "    d_array = np.random.choice(sample,size=(n_bootstraps,sample_size))\n",
        "    d_std_arr = np.std(d_array, axis=1)\n",
        "    d_std_arr_sort = np.sort(d_std_arr)\n",
        "    data_std = np.std(d_std_arr_sort)\n",
        "    lower_ci = (100-ci)/2\n",
        "    upper_ci = 100-lower_ci\n",
        "    lower = np.percentile(d_std_arr_sort, lower_ci)\n",
        "    upper = np.percentile(d_std_arr_sort, upper_ci)\n",
        "    return data_std, lower, upper"
      ],
      "metadata": {
        "id": "OnoJ6hq5X-pD"
      },
      "execution_count": 12,
      "outputs": []
    },
    {
      "cell_type": "code",
      "metadata": {
        "id": "uDnjq08GYl-C",
        "outputId": "c7325cae-0de0-46c3-cbd8-f10d669e99d5",
        "colab": {
          "base_uri": "https://localhost:8080/",
          "height": 441
        }
      },
      "source": [
        "boots = []\n",
        "for i in range(100, 50000, 1000):\n",
        "    boot = bootstrap_mean_ci(data, data.shape[0], i, 80)\n",
        "    boots.append([i, boot[0], \"mean\"])\n",
        "    boots.append([i, boot[1], \"lower\"])\n",
        "    boots.append([i, boot[2], \"upper\"])\n",
        "\n",
        "df_boot = pd.DataFrame(boots, columns=['Boostrap Iterations', 'Mean', \"Value\"])\n",
        "sns_plot = sns.lmplot(df_boot.columns[0], df_boot.columns[1], data=df_boot, fit_reg=False, hue=\"Value\")\n",
        "\n",
        "sns_plot.axes[0, 0].set_ylim(0,)\n",
        "sns_plot.axes[0, 0].set_xlim(0, 50000)\n",
        "\n",
        "#sns_plot.savefig(\"bootstrap_confidence_80.pdf\", bbox_inches='tight')\n"
      ],
      "execution_count": 13,
      "outputs": [
        {
          "output_type": "stream",
          "name": "stderr",
          "text": [
            "/usr/local/lib/python3.7/dist-packages/seaborn/_decorators.py:43: FutureWarning: Pass the following variables as keyword args: x, y. From version 0.12, the only valid positional argument will be `data`, and passing other arguments without an explicit keyword will result in an error or misinterpretation.\n",
            "  FutureWarning\n"
          ]
        },
        {
          "output_type": "execute_result",
          "data": {
            "text/plain": [
              "(0.0, 50000.0)"
            ]
          },
          "metadata": {},
          "execution_count": 13
        },
        {
          "output_type": "display_data",
          "data": {
            "text/plain": [
              "<Figure size 425.125x360 with 1 Axes>"
            ],
            "image/png": "[encoded data removed]"
          },
          "metadata": {
            "needs_background": "light"
          }
        }
      ]
    },
    {
      "cell_type": "markdown",
      "metadata": {
        "id": "qjNgXW6wdd7r"
      },
      "source": [
        "# Vehicles dataset\n",
        "\n",
        "Now let's work on a different dataset, which is stored in the vehicles.csv file.\n"
      ]
    },
    {
      "cell_type": "code",
      "metadata": {
        "id": "avWv4ipFdpka",
        "outputId": "a271ef8c-0125-4e9c-8503-d89757729e15",
        "colab": {
          "base_uri": "https://localhost:8080/",
          "height": 828
        }
      },
      "source": [
        "# Load and visualise the vehicles dataset\n",
        "# To load the dataset: https://neptune.ai/blog/google-colab-dealing-with-files (check section \"Load individual files directly from GitHub\")\n",
        "df_vehicles = pd.read_csv('https://raw.githubusercontent.com/albanda/CE888/master/lab2%20-%20bootstrap/vehicles.csv')\n",
        "df_vehicles.insert(0, 'Car_ID', range(1, 1 + len(df_vehicles)))\n",
        "\n",
        "# Note that the current and new fleets are in different columns and have different lengths, so bear this in mind when you're plotting.\n",
        "# You can create separate scatterplots for the two fleets, as you would with the histograms, \n",
        "# or plot them both in one plot (but not one against the other).\n",
        "# <---INSERT YOUR CODE HERE--->\n",
        "sns.lmplot(df_vehicles.columns[0], df_vehicles.columns[1], data=df_vehicles, fit_reg=False)\n",
        "sns.lmplot(df_vehicles.columns[0], df_vehicles.columns[2], data=df_vehicles, fit_reg=False)\n",
        "# Note: you can add more cells as needed to organise your code and your plots\n"
      ],
      "execution_count": 14,
      "outputs": [
        {
          "output_type": "stream",
          "name": "stderr",
          "text": [
            "/usr/local/lib/python3.7/dist-packages/seaborn/_decorators.py:43: FutureWarning: Pass the following variables as keyword args: x, y. From version 0.12, the only valid positional argument will be `data`, and passing other arguments without an explicit keyword will result in an error or misinterpretation.\n",
            "  FutureWarning\n",
            "/usr/local/lib/python3.7/dist-packages/seaborn/_decorators.py:43: FutureWarning: Pass the following variables as keyword args: x, y. From version 0.12, the only valid positional argument will be `data`, and passing other arguments without an explicit keyword will result in an error or misinterpretation.\n",
            "  FutureWarning\n"
          ]
        },
        {
          "output_type": "execute_result",
          "data": {
            "text/plain": [
              "<seaborn.axisgrid.FacetGrid at 0x7fc8fb6e81d0>"
            ]
          },
          "metadata": {},
          "execution_count": 14
        },
        {
          "output_type": "display_data",
          "data": {
            "text/plain": [
              "<Figure size 360x360 with 1 Axes>"
            ],
            "image/png": "[encoded data removed]"
          },
          "metadata": {
            "needs_background": "light"
          }
        },
        {
          "output_type": "display_data",
          "data": {
            "text/plain": [
              "<Figure size 360x360 with 1 Axes>"
            ],
            "image/png": "[encoded data removed]"
          },
          "metadata": {
            "needs_background": "light"
          }
        }
      ]
    },
    {
      "cell_type": "markdown",
      "metadata": {
        "id": "B5d0tXDpIEj8"
      },
      "source": [
        "## Compare the two fleets\n",
        "\n",
        "The business analysts come up a comparison algorithm that requires the upper and lower bounds for the mean in order to say which fleet is better.\n",
        "1. Calculate the mean of both samples.\n",
        "2. Using the bootstrap function that you created:\n",
        "    - Construct the 95% CI of the mean of the current fleet.\n",
        "    - Construct the 95% CI of the mean of the new fleet.\n",
        "    - Are they comparable? (i.e., is one better than the other?) -- you can do this with a permutation test (check the lecture notes!)"
      ]
    },
    {
      "cell_type": "code",
      "metadata": {
        "id": "po4mp6zRHC0m",
        "outputId": "eb6f4e35-32ad-4db4-8dc8-53097041e3c0",
        "colab": {
          "base_uri": "https://localhost:8080/"
        }
      },
      "source": [
        "# <---INSERT YOUR CODE HERE--->\n",
        "# 1. Calculate the mean of both samples.\n",
        "df_means = df_vehicles.mean(axis = 0, skipna = True)\n",
        "print(df_means)\n",
        "print(\"------\")\n",
        "# bootstrap_mean_ci(sample, sample_size, n_bootstraps, ci)\n",
        "data_mean_curr, lower_curr, upper_curr = bootstrap_mean_ci(df_vehicles.iloc[:,1], 15, 15, 95)\n",
        "print(data_mean_curr, lower_curr, upper_curr)\n",
        "print(\"------\")\n",
        "sample = df_vehicles.iloc[:,2].dropna()\n",
        "print(sample)\n",
        "data_mean_new, lower_new, upper_new = bootstrap_mean_ci(sample, 15, 10000, 80)\n",
        "print(data_mean_new, lower_new, upper_new)\n",
        "data_std_new, lower_new, upper_new = bootstrap_sd_ci(sample, 15, 10000, 99)\n",
        "print(data_std_new, lower_new, upper_new)\n"
      ],
      "execution_count": 15,
      "outputs": [
        {
          "output_type": "stream",
          "name": "stdout",
          "text": [
            "Car_ID           125.000000\n",
            "Current fleet     20.144578\n",
            "New Fleet         30.481013\n",
            "dtype: float64\n",
            "------\n",
            "20.51111111111111 17.726666666666667 23.983333333333334\n",
            "------\n",
            "0     24.0\n",
            "1     27.0\n",
            "2     27.0\n",
            "3     25.0\n",
            "4     31.0\n",
            "      ... \n",
            "74    34.0\n",
            "75    38.0\n",
            "76    32.0\n",
            "77    38.0\n",
            "78    32.0\n",
            "Name: New Fleet, Length: 79, dtype: float64\n",
            "30.479366666666667 28.466666666666665 32.46666666666667\n",
            "1.0355383075603857 3.172037425375689 8.522936366607537\n"
          ]
        }
      ]
    },
    {
      "cell_type": "code",
      "metadata": {
        "id": "MkxvDZG4HC0n"
      },
      "source": [
        "# Create your own function for a permutation test here (you will need it for the lab quiz!):\n",
        "def permut_test(sample1, sample2, n_permutations):\n",
        "    \"\"\"\n",
        "    sample1: 1D array\n",
        "    sample2: 1D array (note that the size of the two arrays can be different)\n",
        "    n_permutations: number of permutations to calculate the p-value\n",
        "    \"\"\"\n",
        "    tobs = np.mean(sample2)-np.mean(sample1)\n",
        "\n",
        "    concat = np.concatenate((sample1, sample2))\n",
        "    count=0    \n",
        "    for i in range(n_permutations):\n",
        "        perm = np.random.permutation(concat)\n",
        "        pold = perm[:int(len(perm)/2)]\n",
        "        pnew = perm[int(len(perm)/2):]\n",
        "        tperm = np.mean(pnew)-np.mean(pold)\n",
        "        if tperm>tobs:\n",
        "            count+=1\n",
        "    pvalue = count/n_permutations\n",
        "    return pvalue"
      ],
      "execution_count": 16,
      "outputs": []
    },
    {
      "cell_type": "code",
      "source": [
        "current_old_data = df_vehicles.iloc[:,1]\n",
        "new_data = df_vehicles.iloc[:,2].dropna()\n",
        "\n",
        "# sample1 = [0,0,0,1,1,1,1,1,0,0,0]\n",
        "# sample2 = [1,1,1,1,1,1,1,1,1,0,0,0,0,1,0,1,0]\n",
        "\n",
        "pvalue = permut_test(current_old_data, new_data, 30000)\n",
        "print(pvalue)"
      ],
      "metadata": {
        "id": "qoBL5XWdYTF7",
        "outputId": "d26c8c9a-495f-4318-d7de-10f8a842ab54",
        "colab": {
          "base_uri": "https://localhost:8080/"
        }
      },
      "execution_count": 17,
      "outputs": [
        {
          "output_type": "stream",
          "name": "stdout",
          "text": [
            "0.0\n"
          ]
        }
      ]
    },
    {
      "cell_type": "code",
      "source": [
        "dem_share_PA = [60.08, 40.64, 36.07, 41.21, 31.04, 43.78, 44.08, 46.85, 44.71, 46.15, 63.10, 52.20, 43.18, 40.24, 39.92, 47.87, 37.77, 40.11, 49.85, 48.61, 38.62, 54.25, 34.84, 47.75, 43.82, 55.97, 58.23, 42.97, 42.38, 36.11, 37.53, 42.65, 50.96, 47.43, 56.24, 45.60, 46.39, 35.22, 48.56, 32.97, 57.88, 36.05, 37.72, 50.36, 32.12, 41.55, 54.66, 57.81, 54.58, 32.88, 54.37, 40.45, 47.61, 60.49, 43.11, 27.32, 44.03, 33.56, 37.26, 54.64, 43.12, 25.34, 49.79, 83.56, 40.09, 60.81, 49.81]\n",
        "dem_share_OH = [56.94, 50.46, 65.99, 45.88, 42.23, 45.26, 57.01, 53.61, 59.10, 61.48, 43.43, 44.69, 54.59, 48.36, 45.89, 48.62, 43.92, 38.23, 28.79, 63.57, 38.07, 40.18, 43.05, 41.56, 42.49, 36.06, 52.76, 46.07, 39.43, 39.26, 47.47, 27.92, 38.01, 45.45, 29.07, 28.94, 51.28, 50.10, 39.84, 36.43, 35.71, 31.47, 47.01, 40.10, 48.76, 31.56, 39.86, 45.31, 35.47, 51.38, 46.33, 48.73, 41.77, 41.32, 48.46, 53.14, 34.01, 54.74, 40.67, 38.96, 46.29, 38.25, 6.80, 31.75, 46.33, 44.90, 33.57, 38.10, 39.67, 40.47, 49.44, 37.62, 36.71, 46.73, 42.20, 53.16, 52.40, 58.36, 68.02, 38.53, 34.58, 69.64, 60.50, 53.53, 36.54, 49.58, 41.97, 38.11]\n",
        "\n",
        "print(len(dem_share_PA))\n",
        "print(len(dem_share_OH))\n",
        "\n",
        "data_mean_new, lower_new, upper_new = bootstrap_mean_ci(dem_share_OH, 15, 20000, 95)\n",
        "print(data_mean_new, lower_new, upper_new)\n",
        "\n",
        "data_mean_new, lower_new, upper_new = bootstrap_mean_ci(dem_share_PA, 15, 20000, 95)\n",
        "print(data_mean_new, lower_new, upper_new)\n",
        "\n",
        "pvalue = permut_test(dem_share_PA, dem_share_OH, 10000)\n",
        "print(pvalue)"
      ],
      "metadata": {
        "id": "xP4Ll8PuYWCK",
        "outputId": "66ed110d-0978-4f40-9a0c-2349d661b70c",
        "colab": {
          "base_uri": "https://localhost:8080/"
        }
      },
      "execution_count": 18,
      "outputs": [
        {
          "output_type": "stream",
          "name": "stdout",
          "text": [
            "67\n",
            "88\n",
            "44.306861633333334 39.28061666666667 49.25609999999999\n",
            "45.4729465 40.69391666666667 50.644133333333315\n",
            "0.7668\n"
          ]
        }
      ]
    },
    {
      "cell_type": "markdown",
      "source": [
        "QUIZ2"
      ],
      "metadata": {
        "id": "p0sUG4RdYb1r"
      }
    },
    {
      "cell_type": "code",
      "source": [
        "# 2.The 92% confidence interval for the mean of the new fleet in the vehicles dataset using 10000 iterations is (Answer, Answer). \n",
        "# Give your answer including the first two decimal points (e.g., 1.23).\n",
        "bootstrap_mean_ci(current_old_data,current_old_data.shape[0],10000,80)"
      ],
      "metadata": {
        "id": "XVlzoiHLYeEg",
        "outputId": "f612f507-454c-4d41-dfcb-2fe0ed784a8a",
        "colab": {
          "base_uri": "https://localhost:8080/"
        }
      },
      "execution_count": 32,
      "outputs": [
        {
          "output_type": "execute_result",
          "data": {
            "text/plain": [
              "(20.14330080321285, 19.626506024096386, 20.666666666666668)"
            ]
          },
          "metadata": {},
          "execution_count": 32
        }
      ]
    },
    {
      "cell_type": "code",
      "source": [
        "# 3.The 80% confidence interval for the mean of the old fleet in the vehicles dataset using 10000 iterations is (Answer, Answer). \n",
        "# Give your answer including the first two decimal points (e.g., 1.23).\n",
        "bootstrap_sd_ci(current_old_data,current_old_data.shape[0],10000,95)"
      ],
      "metadata": {
        "id": "QldCaSs8Yh6j",
        "outputId": "10a3cba7-9c66-4bb2-e30c-863270c3e629",
        "colab": {
          "base_uri": "https://localhost:8080/"
        }
      },
      "execution_count": 35,
      "outputs": [
        {
          "output_type": "execute_result",
          "data": {
            "text/plain": [
              "(0.2920816247611266, 5.791168488087947, 6.948242318678305)"
            ]
          },
          "metadata": {},
          "execution_count": 35
        }
      ]
    },
    {
      "cell_type": "code",
      "source": [
        "# The 73% confidence interval for the standard deviation of the new fleet in the vehicles dataset using 10000 iterations (Give your answer including the first two decimal points (e.g., 1.23).\n",
        "print(bootstrap_sd_ci(new_data,new_data.shape[0], 10000, 73))"
      ],
      "metadata": {
        "id": "jFy95stmYiBj",
        "outputId": "05d4281c-7f2c-4c62-9f75-abda95f4e638",
        "colab": {
          "base_uri": "https://localhost:8080/"
        }
      },
      "execution_count": 36,
      "outputs": [
        {
          "output_type": "stream",
          "name": "stdout",
          "text": [
            "(0.45107287628564435, 5.5270283097852335, 6.525027310762276)\n"
          ]
        }
      ]
    },
    {
      "cell_type": "code",
      "source": [
        "# 5.The 85% confidence interval for the standard deviation of the customers dataset using 10000 iterations is (Answer, Answer). \n",
        "# Give your answer including the first two decimal points (e.g., 1.23).\n",
        "bootstrap_sd_ci(data,data.shape[0],10000,85)\n",
        "# ans: 3.261557159094535, 6.955030480133917"
      ],
      "metadata": {
        "id": "4ovxzWRjYiEd",
        "outputId": "fa72ca19-928e-4d0f-936d-f6a409d97569",
        "colab": {
          "base_uri": "https://localhost:8080/"
        }
      },
      "execution_count": 25,
      "outputs": [
        {
          "output_type": "execute_result",
          "data": {
            "text/plain": [
              "(1.2080479380898512, 3.238795442501324, 6.9370345955308474)"
            ]
          },
          "metadata": {},
          "execution_count": 25
        }
      ]
    },
    {
      "cell_type": "code",
      "source": [
        "# 6.Assume that you are comparing the difference in means between two sets of data through a permutation test, which has given you a p value. \n",
        "# If the significance level has been fixed at 0.05, which of the following statements are true?\n",
        "# ans: \n",
        "# 6.1.If p > 0.1, there is no difference between the two sets of data.\n",
        "# 6.2.If p < 0.05, the two sets of data are statistically different.\n",
        "# 6.3.If p < 0.05, we reject the null hypothesis."
      ],
      "metadata": {
        "id": "84YcnENEYiIT"
      },
      "execution_count": 26,
      "outputs": []
    },
    {
      "cell_type": "code",
      "source": [
        "# 7.1.Using the data from the vehicles.csv file:\n",
        "# We want to know whether the new fleet is better than the old one (i.e., if the difference in the means is positive).\n",
        "# The Null hypothesis is:\n",
        "# ans:There is no difference between the mean MPG between the old and the new fleet\n",
        "# 7.2.The alternative hypothesis is\n",
        "# The mean MPG in the new fleet is larger than the mean MPG for the old fleet\n",
        "permut_test(current_old_data, new_data, 30000)\n",
        "# 7.3. The p-value from a permutation test with 30000 permutations is Answer (give 3 decimal points, e.g., 0.456). Since this value is Answer\n",
        "#  0.01 (our significance level), we ...\n",
        "# ans: 0, <, Reject the Null hypothesis\n",
        "# 7.4.If an error had occurred in our inference above, what type of error would it be? \n",
        "# ans: Type I error\n"
      ],
      "metadata": {
        "id": "3q7zpHfyYiLD",
        "outputId": "d14b93fd-4dc8-494a-8389-3d37ced1196f",
        "colab": {
          "base_uri": "https://localhost:8080/"
        }
      },
      "execution_count": 27,
      "outputs": [
        {
          "output_type": "execute_result",
          "data": {
            "text/plain": [
              "0.0"
            ]
          },
          "metadata": {},
          "execution_count": 27
        }
      ]
    },
    {
      "cell_type": "code",
      "source": [
        "# 8.1.The data for this question is in voting_data.py.\n",
        "# The file contains data for the 2008 US presidential election results from the “swing states” of PA and OH, specifically, \n",
        "# the percentage of voters who voted for the Democrats within each county in a given state. There are Answer\n",
        "# values (i.e., states) in PA and Answer in OH.\n",
        "# print(len(dem_share_PA))\n",
        "# print(len(dem_share_OH))\n",
        "# ans: 67,88\n",
        "\n",
        "# 8.2.We want to know whether voters in PA were more likely than voters in OH to support the Democratic candidate.\n",
        "# The Null hypothesis is:\n",
        "# ans: There is no difference between the mean votes for PA and OH\n",
        "# The alternative hypothesis is\n",
        "# ans:The mean in PA voting is larger than the mean in OH voting\n",
        "\n",
        "\n",
        "\n",
        "# 8.3.The 95% confidence intervals for the means of the votes using 20000 bootstraps are (give two decimal values, e.g., 1.23):\n",
        "\n",
        "# For OH: (Answer, Answer)\n",
        "# bootstrap_mean_ci(dem_share_OH, np.shape(dem_share_OH)[0], 20000, 95)\n",
        "# ans: 42.25,46.35\n",
        "\n",
        "# For PA: (Answer, Answer)\n",
        "# bootstrap_mean_ci(dem_share_PA, np.shape(dem_share_PA)[0], 20000, 95)\n",
        "# ans: 43.17,47.86\n",
        "\n",
        "\n",
        "# 8.4.The p-value from a permutation test with 10000 permutations is Answer\n",
        "#  (give 3 decimal points, e.g., 0.456). Since this value is Answer\n",
        "#  0.05 (our significance level), we ...\n",
        "# permut_test(dem_share_OH, dem_share_PA, 30000)\n",
        "\n",
        "# ans: 0.236,Fail to reject the Null hypothesis,Type II error"
      ],
      "metadata": {
        "id": "5s9R9n9BZS_z"
      },
      "execution_count": 28,
      "outputs": []
    },
    {
      "cell_type": "code",
      "source": [
        "bootstrap_mean_ci(dem_share_OH, np.shape(dem_share_OH)[0], 20000, 90)"
      ],
      "metadata": {
        "id": "Cj_MVzbgZTCa",
        "outputId": "dad7a268-dfdf-4cca-89c7-5582700e4d9a",
        "colab": {
          "base_uri": "https://localhost:8080/"
        }
      },
      "execution_count": 29,
      "outputs": [
        {
          "output_type": "execute_result",
          "data": {
            "text/plain": [
              "(44.31614176704545, 42.6180625, 46.02272727272727)"
            ]
          },
          "metadata": {},
          "execution_count": 29
        }
      ]
    },
    {
      "cell_type": "code",
      "source": [
        "bootstrap_mean_ci(dem_share_PA, np.shape(dem_share_PA)[0], 20000, 90)"
      ],
      "metadata": {
        "id": "eTN9kFhEZTE_",
        "outputId": "582d33a3-e302-441a-ddcc-5a06f4c6577c",
        "colab": {
          "base_uri": "https://localhost:8080/"
        }
      },
      "execution_count": 30,
      "outputs": [
        {
          "output_type": "execute_result",
          "data": {
            "text/plain": [
              "(45.48317420895522, 43.57324626865671, 47.468395522388064)"
            ]
          },
          "metadata": {},
          "execution_count": 30
        }
      ]
    },
    {
      "cell_type": "code",
      "source": [
        "permut_test(dem_share_OH, dem_share_PA, 20000)"
      ],
      "metadata": {
        "id": "wyOICUyOZdob",
        "outputId": "df411ea1-6bdd-45e1-e12f-c82498c7abff",
        "colab": {
          "base_uri": "https://localhost:8080/"
        }
      },
      "execution_count": 31,
      "outputs": [
        {
          "output_type": "execute_result",
          "data": {
            "text/plain": [
              "0.2315"
            ]
          },
          "metadata": {},
          "execution_count": 31
        }
      ]
    },
    {
      "cell_type": "code",
      "source": [
        ""
      ],
      "metadata": {
        "id": "l_D4UaIzZd6S"
      },
      "execution_count": null,
      "outputs": []
    }
  ]
}