{
 "cells": [
  {
   "cell_type": "code",
   "execution_count": null,
   "metadata": {},
   "outputs": [],
   "source": [
    "The correct word is RAINBOW"
   ]
  },
  {
   "cell_type": "code",
   "execution_count": 1,
   "metadata": {},
   "outputs": [
    {
     "name": "stdout",
     "output_type": "stream",
     "text": [
      "LETS UPGRADE\n"
     ]
    }
   ],
   "source": [
    "x = \"LETS UPGRADE\"\n",
    "print(x)"
   ]
  },
  {
   "cell_type": "code",
   "execution_count": 2,
   "metadata": {},
   "outputs": [
    {
     "name": "stdout",
     "output_type": "stream",
     "text": [
      "cost price is:10\n",
      "selling price is:20\n",
      "PROFIT\n"
     ]
    }
   ],
   "source": [
    "a = int(input(\"cost price is:\"))\n",
    "b = int(input(\"selling price is:\"))\n",
    "if a > b:\n",
    "    print(\"LOSS\")\n",
    "elif a < b:\n",
    "    print(\"PROFIT\")\n",
    "else:\n",
    "    print(\"NEITHER\")"
   ]
  },
  {
   "cell_type": "code",
   "execution_count": 3,
   "metadata": {},
   "outputs": [
    {
     "name": "stdout",
     "output_type": "stream",
     "text": [
      "cost price is:20\n",
      "selling price is:10\n",
      "LOSS\n"
     ]
    }
   ],
   "source": [
    "a = int(input(\"cost price is:\"))\n",
    "b = int(input(\"selling price is:\"))\n",
    "if a > b:\n",
    "    print(\"LOSS\")\n",
    "elif a < b:\n",
    "    print(\"PROFIT\")\n",
    "else:\n",
    "    print(\"NEITHER\")"
   ]
  },
  {
   "cell_type": "code",
   "execution_count": 4,
   "metadata": {},
   "outputs": [
    {
     "name": "stdout",
     "output_type": "stream",
     "text": [
      "cost price is:0\n",
      "selling price is:0\n",
      "NEITHER\n"
     ]
    }
   ],
   "source": [
    "a = int(input(\"cost price is:\"))\n",
    "b = int(input(\"selling price is:\"))\n",
    "if a > b:\n",
    "    print(\"LOSS\")\n",
    "elif a < b:\n",
    "    print(\"PROFIT\")\n",
    "else:\n",
    "    print(\"NEITHER\")"
   ]
  },
  {
   "cell_type": "code",
   "execution_count": 5,
   "metadata": {},
   "outputs": [
    {
     "name": "stdout",
     "output_type": "stream",
     "text": [
      "cost price is:10\n",
      "selling price is:10\n",
      "NEITHER\n"
     ]
    }
   ],
   "source": [
    "a = int(input(\"cost price is:\"))\n",
    "b = int(input(\"selling price is:\"))\n",
    "if a > b:\n",
    "    print(\"LOSS\")\n",
    "elif a < b:\n",
    "    print(\"PROFIT\")\n",
    "else:\n",
    "    print(\"NEITHER\")"
   ]
  },
  {
   "cell_type": "code",
   "execution_count": 6,
   "metadata": {},
   "outputs": [
    {
     "name": "stdout",
     "output_type": "stream",
     "text": [
      "20\n",
      "1600\n"
     ]
    }
   ],
   "source": [
    "x = int(input())\n",
    "y = 80\n",
    "in_rupees = x * y\n",
    "print(in_rupees)"
   ]
  },
  {
   "cell_type": "code",
   "execution_count": 7,
   "metadata": {},
   "outputs": [
    {
     "name": "stdout",
     "output_type": "stream",
     "text": [
      "35\n",
      "2800\n"
     ]
    }
   ],
   "source": [
    "x = int(input())\n",
    "y = 80\n",
    "in_rupees = x * y\n",
    "print(in_rupees)"
   ]
  },
  {
   "cell_type": "code",
   "execution_count": null,
   "metadata": {},
   "outputs": [],
   "source": []
  }
 ],
 "metadata": {
  "kernelspec": {
   "display_name": "Python 3",
   "language": "python",
   "name": "python3"
  },
  "language_info": {
   "codemirror_mode": {
    "name": "ipython",
    "version": 3
   },
   "file_extension": ".py",
   "mimetype": "text/x-python",
   "name": "python",
   "nbconvert_exporter": "python",
   "pygments_lexer": "ipython3",
   "version": "3.7.6"
  }
 },
 "nbformat": 4,
 "nbformat_minor": 4
}
